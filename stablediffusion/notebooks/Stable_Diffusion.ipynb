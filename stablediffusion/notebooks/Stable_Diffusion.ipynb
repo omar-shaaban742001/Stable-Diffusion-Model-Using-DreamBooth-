{
  "nbformat": 4,
  "nbformat_minor": 0,
  "metadata": {
    "colab": {
      "provenance": [],
      "gpuType": "T4"
    },
    "kernelspec": {
      "name": "python3",
      "display_name": "Python 3"
    },
    "language_info": {
      "name": "python"
    },
    "accelerator": "GPU"
  },
  "cells": [
    {
      "cell_type": "code",
      "source": [
        "from diffusers import DiffusionPipeline\n",
        "\n",
        "pipeline = DiffusionPipeline.from_pretrained(\"stable-diffusion-v1-5/stable-diffusion-v1-5\", use_safetensors=True)"
      ],
      "metadata": {
        "id": "8Rfb5b96Cinb"
      },
      "execution_count": null,
      "outputs": []
    },
    {
      "cell_type": "code",
      "source": [
        "pipeline.to(\"cuda\")"
      ],
      "metadata": {
        "id": "QG4mEal3FuBJ"
      },
      "execution_count": null,
      "outputs": []
    },
    {
      "cell_type": "code",
      "source": [
        "image = pipeline(\"the flag of egypt in the moon\").images[0]\n",
        "image"
      ],
      "metadata": {
        "id": "DRV-Y7--F7Wg"
      },
      "execution_count": null,
      "outputs": []
    },
    {
      "cell_type": "code",
      "source": [
        "!cd /content/"
      ],
      "metadata": {
        "id": "NJOLUhZlNVvY"
      },
      "execution_count": null,
      "outputs": []
    },
    {
      "cell_type": "code",
      "source": [
        "!git clone https://github.com/huggingface/diffusers\n",
        "!pip install ./diffusers/\n",
        "!pip install -U -r /content/diffusers/examples/dreambooth/requirements.txt"
      ],
      "metadata": {
        "id": "3s6NeS7WNVs_"
      },
      "execution_count": null,
      "outputs": []
    },
    {
      "cell_type": "code",
      "source": [
        "!pip install -r /content/diffusers/examples/text_to_image/requirements_sdxl.txt"
      ],
      "metadata": {
        "id": "Ty6mr-UUVhcB"
      },
      "execution_count": null,
      "outputs": []
    },
    {
      "cell_type": "code",
      "source": [
        "!accelerate config default"
      ],
      "metadata": {
        "id": "Nd1D8zHJV_wm"
      },
      "execution_count": null,
      "outputs": []
    },
    {
      "cell_type": "code",
      "source": [
        "!accelerate launch /content/diffusers/examples/dreambooth/train_dreambooth_lora_sdxl.py \\\n",
        "--pretrained_model_name_or_path=\"stabilityai/stable-diffusion-xl-base-1.0\" \\\n",
        "--dataset_name=\"AdamLucek/green-chair\" \\\n",
        "--pretrained_vae_model_name_or_path=\"madebyollin/sdxl-vae-fp16-fix\" \\\n",
        "--output_dir=\"content\" \\\n",
        "--train_text_encoder \\\n",
        "--instance_prompt=\"a photo of sks chair\" \\\n",
        "--resolution=420 \\\n",
        "--train_batch_size=1 \\\n",
        "--mixed_precision=\"fp16\" \\\n",
        "--gradient_accumulation_steps=32 \\\n",
        "--learning_rate=1e-4 \\\n",
        "--lr_scheduler=\"constant\" \\\n",
        "--lr_warmup_steps=0 \\\n",
        "--max_train_steps=300 \\\n",
        "--validation_prompt=\"A photo of sks chair in an apartment\" \\\n",
        "--validation_epochs=5 \\\n",
        "--seed=\"0\" \\\n",
        "\n"
      ],
      "metadata": {
        "id": "3xeraxX_Uac7"
      },
      "execution_count": null,
      "outputs": []
    },
    {
      "cell_type": "code",
      "source": [],
      "metadata": {
        "id": "fk0YCuesWa_o"
      },
      "execution_count": null,
      "outputs": []
    }
  ]
}